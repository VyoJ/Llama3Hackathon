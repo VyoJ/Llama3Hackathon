{
 "cells": [
  {
   "cell_type": "code",
   "execution_count": null,
   "metadata": {},
   "outputs": [],
   "source": [
    "def extract_urls(text):\n",
    "    # Regular expression pattern to match URLs\n",
    "    url_pattern = r'https?://[^\\s)\"]+'\n",
    "    \n",
    "    # Find all matches in the text\n",
    "    urls = re.findall(url_pattern, text)\n",
    "    \n",
    "    # Remove duplicate URLs while preserving order\n",
    "    unique_urls = []\n",
    "    seen = set()\n",
    "    for url in urls:\n",
    "        if url not in seen:\n",
    "            seen.add(url)\n",
    "            unique_urls.append(url)\n",
    "    \n",
    "    return unique_urls\n"
   ]
  },
  {
   "cell_type": "code",
   "execution_count": null,
   "metadata": {},
   "outputs": [],
   "source": [
    "import re\n",
    "import csv\n",
    "\n",
    "def extract_links_to_csv(markdown_file_path, csv_file_path):\n",
    "    # Regular expression to match Markdown links\n",
    "    link_pattern = re.compile(r'\\[([^\\]]+)\\]\\(([^)]+)\\)')\n",
    "    \n",
    "    with open(markdown_file_path, 'r') as md_file:\n",
    "        content = md_file.readlines()\n",
    "        \n",
    "    with open(csv_file_path, 'w', newline='') as csv_file:\n",
    "        writer = csv.writer(csv_file)\n",
    "        writer.writerow(['Link Text', 'URL'])  # Write CSV header\n",
    "        \n",
    "        for line in content:\n",
    "            matches = link_pattern.findall(line)\n",
    "            for match in matches:\n",
    "                writer.writerow([match[0], match[1]])  # Write each link to the CSV\n",
    "\n",
    "# Example usage\n",
    "markdown_file_path = 'links.md'\n",
    "csv_file_path = 'links.csv'\n",
    "extract_links_to_csv(markdown_file_path, csv_file_path)"
   ]
  }
 ],
 "metadata": {
  "kernelspec": {
   "display_name": "shadow",
   "language": "python",
   "name": "python3"
  },
  "language_info": {
   "codemirror_mode": {
    "name": "ipython",
    "version": 3
   },
   "file_extension": ".py",
   "mimetype": "text/x-python",
   "name": "python",
   "nbconvert_exporter": "python",
   "pygments_lexer": "ipython3",
   "version": "3.11.9"
  }
 },
 "nbformat": 4,
 "nbformat_minor": 2
}
